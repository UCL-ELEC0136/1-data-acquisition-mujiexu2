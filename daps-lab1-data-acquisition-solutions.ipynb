{
 "cells": [
  {
   "cell_type": "markdown",
   "metadata": {
    "id": "jenv-YgSElT1"
   },
   "source": [
    "# Task 1: Small case scenario of dataset analysis"
   ]
  },
  {
   "cell_type": "markdown",
   "metadata": {
    "id": "pZ6YahZgAZvB"
   },
   "source": [
    "## 1.1 - Create a dataset (The Tate Collection)\n",
    "As a first example, we will create our own small dataset. In particular, the dataset will consist of 10 artists which are present in the Tate Collection along with the corresponding year of birth, year of death, biological gender and number of artworks.\n",
    "\n",
    "|          Name         | Gender |   Year_Birth  |   Year_Death  | N_works |\n",
    "|-----------------------|--------|---------------|---------------|---------|\n",
    "|     Beuys, Joseph     |  Male  |      1921\t |      1986     |   588   |\n",
    "|    Constable, John    |  Male  |      1776\t |      1837\t |   249   |\n",
    "|   Daniell, William    |  Male  |      1769\t |      1837\t |   612   |\n",
    "|   Forbes, Elizabeth   | Female |      1859\t |      1912\t |   120   |\n",
    "|     Flaxman, John     |  Male  |      1755\t |      1826\t |   287   |\n",
    "|    Phillips, Thomas   |  Male  |      1770\t |      1845\t |   274   |\n",
    "| Paolozzi, Sir Eduardo |  Male  |      1924\t |      2005\t |   385   |\n",
    "|     Schendel, Mira    | Female |      1919\t |      1988\t |    3    |\n",
    "|    Turner, William    |  Male  |      1775\t |      1851\t |  1861   |\n",
    "|      Warhol, Andy     |  Male  |      1928\t |      1987\t |   272   |\n"
   ]
  },
  {
   "cell_type": "markdown",
   "metadata": {
    "id": "TV1sgIOzAZvD"
   },
   "source": [
    "**_[TO DO]_**: Let's create a DataFrame named **TateDataset** with the information showed in the above table.\n",
    "\n",
    "**Note:** You can create arrays for each column and then build the DataFrame.\n",
    "Remember to import the required libraries!"
   ]
  },
  {
   "cell_type": "code",
   "execution_count": 64,
   "metadata": {
    "cellView": "both",
    "executionInfo": {
     "elapsed": 1615,
     "status": "ok",
     "timestamp": 1604070789726,
     "user": {
      "displayName": "Andrea Piccione",
      "photoUrl": "https://lh3.googleusercontent.com/a-/AOh14GiSPFO34Ds8ny26kw1UmmNXztv1KJ8K3YgBNM11gw=s64",
      "userId": "08515391909662815456"
     },
     "user_tz": -60
    },
    "id": "NxkzhjIGAZvF"
   },
   "outputs": [],
   "source": [
    "#@title Imports\n",
    "import numpy as np\n",
    "import pandas as pd"
   ]
  },
  {
   "cell_type": "code",
   "execution_count": 65,
   "metadata": {
    "colab": {
     "base_uri": "https://localhost:8080/",
     "height": 343
    },
    "executionInfo": {
     "elapsed": 975,
     "status": "ok",
     "timestamp": 1604070825813,
     "user": {
      "displayName": "Andrea Piccione",
      "photoUrl": "https://lh3.googleusercontent.com/a-/AOh14GiSPFO34Ds8ny26kw1UmmNXztv1KJ8K3YgBNM11gw=s64",
      "userId": "08515391909662815456"
     },
     "user_tz": -60
    },
    "id": "FWsJFvTQB3hX",
    "outputId": "1ba5f007-8a1c-400f-ced1-637613674118"
   },
   "outputs": [
    {
     "data": {
      "text/html": [
       "<div>\n",
       "<style scoped>\n",
       "    .dataframe tbody tr th:only-of-type {\n",
       "        vertical-align: middle;\n",
       "    }\n",
       "\n",
       "    .dataframe tbody tr th {\n",
       "        vertical-align: top;\n",
       "    }\n",
       "\n",
       "    .dataframe thead th {\n",
       "        text-align: right;\n",
       "    }\n",
       "</style>\n",
       "<table border=\"1\" class=\"dataframe\">\n",
       "  <thead>\n",
       "    <tr style=\"text-align: right;\">\n",
       "      <th></th>\n",
       "      <th>Name</th>\n",
       "      <th>Gender</th>\n",
       "      <th>Year_Birth</th>\n",
       "      <th>Year_Death</th>\n",
       "      <th>N_works</th>\n",
       "    </tr>\n",
       "  </thead>\n",
       "  <tbody>\n",
       "    <tr>\n",
       "      <th>0</th>\n",
       "      <td>Beuys, Joseph</td>\n",
       "      <td>Male</td>\n",
       "      <td>1921</td>\n",
       "      <td>1986</td>\n",
       "      <td>588</td>\n",
       "    </tr>\n",
       "    <tr>\n",
       "      <th>1</th>\n",
       "      <td>Constable, John</td>\n",
       "      <td>Male</td>\n",
       "      <td>1776</td>\n",
       "      <td>1837</td>\n",
       "      <td>249</td>\n",
       "    </tr>\n",
       "    <tr>\n",
       "      <th>2</th>\n",
       "      <td>Daniell, William</td>\n",
       "      <td>Male</td>\n",
       "      <td>1769</td>\n",
       "      <td>1837</td>\n",
       "      <td>612</td>\n",
       "    </tr>\n",
       "    <tr>\n",
       "      <th>3</th>\n",
       "      <td>Forbes, Elizabeth</td>\n",
       "      <td>Female</td>\n",
       "      <td>1859</td>\n",
       "      <td>1912</td>\n",
       "      <td>120</td>\n",
       "    </tr>\n",
       "    <tr>\n",
       "      <th>4</th>\n",
       "      <td>Flaxman, John</td>\n",
       "      <td>Male</td>\n",
       "      <td>1755</td>\n",
       "      <td>1826</td>\n",
       "      <td>287</td>\n",
       "    </tr>\n",
       "    <tr>\n",
       "      <th>5</th>\n",
       "      <td>Phillips, Thomas</td>\n",
       "      <td>Male</td>\n",
       "      <td>1770</td>\n",
       "      <td>1845</td>\n",
       "      <td>274</td>\n",
       "    </tr>\n",
       "    <tr>\n",
       "      <th>6</th>\n",
       "      <td>Paolozzi, Sir Eduardo</td>\n",
       "      <td>Male</td>\n",
       "      <td>1924</td>\n",
       "      <td>2005</td>\n",
       "      <td>385</td>\n",
       "    </tr>\n",
       "    <tr>\n",
       "      <th>7</th>\n",
       "      <td>Schendel, Mira</td>\n",
       "      <td>Female</td>\n",
       "      <td>1919</td>\n",
       "      <td>1988</td>\n",
       "      <td>3</td>\n",
       "    </tr>\n",
       "    <tr>\n",
       "      <th>8</th>\n",
       "      <td>Turner, William</td>\n",
       "      <td>Male</td>\n",
       "      <td>1775</td>\n",
       "      <td>1851</td>\n",
       "      <td>1861</td>\n",
       "    </tr>\n",
       "    <tr>\n",
       "      <th>9</th>\n",
       "      <td>Warhol, Andy</td>\n",
       "      <td>Male</td>\n",
       "      <td>1928</td>\n",
       "      <td>1987</td>\n",
       "      <td>272</td>\n",
       "    </tr>\n",
       "  </tbody>\n",
       "</table>\n",
       "</div>"
      ],
      "text/plain": [
       "                    Name  Gender  Year_Birth  Year_Death  N_works\n",
       "0          Beuys, Joseph    Male        1921        1986      588\n",
       "1        Constable, John    Male        1776        1837      249\n",
       "2       Daniell, William    Male        1769        1837      612\n",
       "3      Forbes, Elizabeth  Female        1859        1912      120\n",
       "4          Flaxman, John    Male        1755        1826      287\n",
       "5       Phillips, Thomas    Male        1770        1845      274\n",
       "6  Paolozzi, Sir Eduardo    Male        1924        2005      385\n",
       "7         Schendel, Mira  Female        1919        1988        3\n",
       "8        Turner, William    Male        1775        1851     1861\n",
       "9           Warhol, Andy    Male        1928        1987      272"
      ]
     },
     "execution_count": 65,
     "metadata": {},
     "output_type": "execute_result"
    }
   ],
   "source": [
    "name = ['Beuys, Joseph', 'Constable, John', 'Daniell, William', 'Forbes, Elizabeth', 'Flaxman, John', 'Phillips, Thomas',\n",
    "        'Paolozzi, Sir Eduardo', 'Schendel, Mira', 'Turner, William', 'Warhol, Andy']\n",
    "\n",
    "gender = ['Male', 'Male', 'Male', 'Female', 'Male', 'Male', 'Male', 'Female', 'Male', 'Male']\n",
    "year_birth = np.array([1921, 1776, 1769, 1859, 1755, 1770, 1924, 1919, 1775, 1928], dtype=np.int64)\n",
    "year_death = np.array([1986, 1837, 1837, 1912, 1826, 1845, 2005, 1988, 1851, 1987], dtype=np.int64)\n",
    "n_works = np.array([588, 249, 612, 120, 287, 274, 385, 3, 1861, 272], dtype=np.int64)\n",
    "\n",
    "columns = ['Name', 'Gender', 'Year_Birth', 'Year_Death', 'N_works']\n",
    "\n",
    "d = {'Name': name, 'Gender': gender, 'Year_Birth': year_birth, 'Year_Death': year_death, 'N_works': n_works}\n",
    "\n",
    "tate_dataset = pd.DataFrame(data=d)\n",
    "tate_dataset"
   ]
  },
  {
   "cell_type": "markdown",
   "metadata": {
    "id": "0P3DpT-VAZvO"
   },
   "source": [
    "## 1.2 - Data Acquisition (local file)\n",
    "\n",
    "Data acquisition is a process of loading and reading data from various sources. We will learn how to export and read data from a local file in different format using  **Pandas** package. \n",
    "\n",
    "A file format is a standardised way in which information is encoded to be stored in a file. Some examples of file formats are: CSV, XLSX, and PKL. \n",
    "\n",
    "Let's practice with some examples.\n",
    "\n",
    "### .CSV - Comma Separated Values\n",
    "\n",
    "CSV is one of the most popular spreadsheet file format. In this kind of file, data is stored in cells. Each cell is organized in rows and columns. A column in the spreadsheet file can have different types. \n",
    "\n",
    "Let us look at how to create a CSV file. We can export a DataFrame with the Pandas function `to_csv()`. The file will be saved in the same location of this notebook unless specified otherwise. We can name the file **TateData.csv**.\n",
    "\n",
    "**Note:** Once you have run the following cell, check the output file ."
   ]
  },
  {
   "cell_type": "code",
   "execution_count": 66,
   "metadata": {
    "executionInfo": {
     "elapsed": 1609,
     "status": "ok",
     "timestamp": 1604070851237,
     "user": {
      "displayName": "Andrea Piccione",
      "photoUrl": "https://lh3.googleusercontent.com/a-/AOh14GiSPFO34Ds8ny26kw1UmmNXztv1KJ8K3YgBNM11gw=s64",
      "userId": "08515391909662815456"
     },
     "user_tz": -60
    },
    "id": "DcFThhwRAZvP"
   },
   "outputs": [],
   "source": [
    "tate_dataset.to_csv('tate_dataset.csv', index=False, header=True)"
   ]
  },
  {
   "cell_type": "markdown",
   "metadata": {
    "id": "54BZQJs8AZvU"
   },
   "source": [
    "To pull in the csv file, we will use the Pandas function `read_csv()`. We will import the previous file in a new DataFrame.\n",
    "\n",
    "**Note:**  Depending on where you save your notebooks, you may need to modify the location below."
   ]
  },
  {
   "cell_type": "code",
   "execution_count": 67,
   "metadata": {
    "colab": {
     "base_uri": "https://localhost:8080/",
     "height": 343
    },
    "executionInfo": {
     "elapsed": 1049,
     "status": "ok",
     "timestamp": 1604070854462,
     "user": {
      "displayName": "Andrea Piccione",
      "photoUrl": "https://lh3.googleusercontent.com/a-/AOh14GiSPFO34Ds8ny26kw1UmmNXztv1KJ8K3YgBNM11gw=s64",
      "userId": "08515391909662815456"
     },
     "user_tz": -60
    },
    "id": "PcO3epU5AZvV",
    "outputId": "e1c29cf0-0400-4842-fff7-786959e64250"
   },
   "outputs": [
    {
     "data": {
      "text/html": [
       "<div>\n",
       "<style scoped>\n",
       "    .dataframe tbody tr th:only-of-type {\n",
       "        vertical-align: middle;\n",
       "    }\n",
       "\n",
       "    .dataframe tbody tr th {\n",
       "        vertical-align: top;\n",
       "    }\n",
       "\n",
       "    .dataframe thead th {\n",
       "        text-align: right;\n",
       "    }\n",
       "</style>\n",
       "<table border=\"1\" class=\"dataframe\">\n",
       "  <thead>\n",
       "    <tr style=\"text-align: right;\">\n",
       "      <th></th>\n",
       "      <th>Name</th>\n",
       "      <th>Gender</th>\n",
       "      <th>Year_Birth</th>\n",
       "      <th>Year_Death</th>\n",
       "      <th>N_works</th>\n",
       "    </tr>\n",
       "  </thead>\n",
       "  <tbody>\n",
       "    <tr>\n",
       "      <th>0</th>\n",
       "      <td>Beuys, Joseph</td>\n",
       "      <td>Male</td>\n",
       "      <td>1921</td>\n",
       "      <td>1986</td>\n",
       "      <td>588</td>\n",
       "    </tr>\n",
       "    <tr>\n",
       "      <th>1</th>\n",
       "      <td>Constable, John</td>\n",
       "      <td>Male</td>\n",
       "      <td>1776</td>\n",
       "      <td>1837</td>\n",
       "      <td>249</td>\n",
       "    </tr>\n",
       "    <tr>\n",
       "      <th>2</th>\n",
       "      <td>Daniell, William</td>\n",
       "      <td>Male</td>\n",
       "      <td>1769</td>\n",
       "      <td>1837</td>\n",
       "      <td>612</td>\n",
       "    </tr>\n",
       "    <tr>\n",
       "      <th>3</th>\n",
       "      <td>Forbes, Elizabeth</td>\n",
       "      <td>Female</td>\n",
       "      <td>1859</td>\n",
       "      <td>1912</td>\n",
       "      <td>120</td>\n",
       "    </tr>\n",
       "    <tr>\n",
       "      <th>4</th>\n",
       "      <td>Flaxman, John</td>\n",
       "      <td>Male</td>\n",
       "      <td>1755</td>\n",
       "      <td>1826</td>\n",
       "      <td>287</td>\n",
       "    </tr>\n",
       "    <tr>\n",
       "      <th>5</th>\n",
       "      <td>Phillips, Thomas</td>\n",
       "      <td>Male</td>\n",
       "      <td>1770</td>\n",
       "      <td>1845</td>\n",
       "      <td>274</td>\n",
       "    </tr>\n",
       "    <tr>\n",
       "      <th>6</th>\n",
       "      <td>Paolozzi, Sir Eduardo</td>\n",
       "      <td>Male</td>\n",
       "      <td>1924</td>\n",
       "      <td>2005</td>\n",
       "      <td>385</td>\n",
       "    </tr>\n",
       "    <tr>\n",
       "      <th>7</th>\n",
       "      <td>Schendel, Mira</td>\n",
       "      <td>Female</td>\n",
       "      <td>1919</td>\n",
       "      <td>1988</td>\n",
       "      <td>3</td>\n",
       "    </tr>\n",
       "    <tr>\n",
       "      <th>8</th>\n",
       "      <td>Turner, William</td>\n",
       "      <td>Male</td>\n",
       "      <td>1775</td>\n",
       "      <td>1851</td>\n",
       "      <td>1861</td>\n",
       "    </tr>\n",
       "    <tr>\n",
       "      <th>9</th>\n",
       "      <td>Warhol, Andy</td>\n",
       "      <td>Male</td>\n",
       "      <td>1928</td>\n",
       "      <td>1987</td>\n",
       "      <td>272</td>\n",
       "    </tr>\n",
       "  </tbody>\n",
       "</table>\n",
       "</div>"
      ],
      "text/plain": [
       "                    Name  Gender  Year_Birth  Year_Death  N_works\n",
       "0          Beuys, Joseph    Male        1921        1986      588\n",
       "1        Constable, John    Male        1776        1837      249\n",
       "2       Daniell, William    Male        1769        1837      612\n",
       "3      Forbes, Elizabeth  Female        1859        1912      120\n",
       "4          Flaxman, John    Male        1755        1826      287\n",
       "5       Phillips, Thomas    Male        1770        1845      274\n",
       "6  Paolozzi, Sir Eduardo    Male        1924        2005      385\n",
       "7         Schendel, Mira  Female        1919        1988        3\n",
       "8        Turner, William    Male        1775        1851     1861\n",
       "9           Warhol, Andy    Male        1928        1987      272"
      ]
     },
     "execution_count": 67,
     "metadata": {},
     "output_type": "execute_result"
    }
   ],
   "source": [
    "tate_1 = pd.read_csv('tate_dataset.csv')\n",
    "tate_1"
   ]
  },
  {
   "cell_type": "markdown",
   "metadata": {
    "id": "1CmXNd9jAZva"
   },
   "source": [
    "When we create the .CSV file, the only parameter we have used is **index**. \n",
    "\n",
    "**[TO DO]** What happens if we set the *index* parameter to True? And if you set also the parameter **header** to False?\n",
    "Try by yourself. \n",
    "\n",
    "*The parameter index set to **True** creates an additional column with the index number. Whereas if we set header=**False**, then the first line in the .csv file would be dropped and the second one would be considered as the key for each column (which is far from being appropriate in this case)*"
   ]
  },
  {
   "cell_type": "code",
   "execution_count": 68,
   "metadata": {
    "colab": {
     "base_uri": "https://localhost:8080/",
     "height": 314
    },
    "executionInfo": {
     "elapsed": 990,
     "status": "ok",
     "timestamp": 1604070989153,
     "user": {
      "displayName": "Andrea Piccione",
      "photoUrl": "https://lh3.googleusercontent.com/a-/AOh14GiSPFO34Ds8ny26kw1UmmNXztv1KJ8K3YgBNM11gw=s64",
      "userId": "08515391909662815456"
     },
     "user_tz": -60
    },
    "id": "egR7HZLaAZvb",
    "outputId": "d48148a0-84e5-4904-bef1-1b7498540b45"
   },
   "outputs": [
    {
     "data": {
      "text/html": [
       "<div>\n",
       "<style scoped>\n",
       "    .dataframe tbody tr th:only-of-type {\n",
       "        vertical-align: middle;\n",
       "    }\n",
       "\n",
       "    .dataframe tbody tr th {\n",
       "        vertical-align: top;\n",
       "    }\n",
       "\n",
       "    .dataframe thead th {\n",
       "        text-align: right;\n",
       "    }\n",
       "</style>\n",
       "<table border=\"1\" class=\"dataframe\">\n",
       "  <thead>\n",
       "    <tr style=\"text-align: right;\">\n",
       "      <th></th>\n",
       "      <th>0</th>\n",
       "      <th>Beuys, Joseph</th>\n",
       "      <th>Male</th>\n",
       "      <th>1921</th>\n",
       "      <th>1986</th>\n",
       "      <th>588</th>\n",
       "    </tr>\n",
       "  </thead>\n",
       "  <tbody>\n",
       "    <tr>\n",
       "      <th>0</th>\n",
       "      <td>1</td>\n",
       "      <td>Constable, John</td>\n",
       "      <td>Male</td>\n",
       "      <td>1776</td>\n",
       "      <td>1837</td>\n",
       "      <td>249</td>\n",
       "    </tr>\n",
       "    <tr>\n",
       "      <th>1</th>\n",
       "      <td>2</td>\n",
       "      <td>Daniell, William</td>\n",
       "      <td>Male</td>\n",
       "      <td>1769</td>\n",
       "      <td>1837</td>\n",
       "      <td>612</td>\n",
       "    </tr>\n",
       "    <tr>\n",
       "      <th>2</th>\n",
       "      <td>3</td>\n",
       "      <td>Forbes, Elizabeth</td>\n",
       "      <td>Female</td>\n",
       "      <td>1859</td>\n",
       "      <td>1912</td>\n",
       "      <td>120</td>\n",
       "    </tr>\n",
       "    <tr>\n",
       "      <th>3</th>\n",
       "      <td>4</td>\n",
       "      <td>Flaxman, John</td>\n",
       "      <td>Male</td>\n",
       "      <td>1755</td>\n",
       "      <td>1826</td>\n",
       "      <td>287</td>\n",
       "    </tr>\n",
       "    <tr>\n",
       "      <th>4</th>\n",
       "      <td>5</td>\n",
       "      <td>Phillips, Thomas</td>\n",
       "      <td>Male</td>\n",
       "      <td>1770</td>\n",
       "      <td>1845</td>\n",
       "      <td>274</td>\n",
       "    </tr>\n",
       "    <tr>\n",
       "      <th>5</th>\n",
       "      <td>6</td>\n",
       "      <td>Paolozzi, Sir Eduardo</td>\n",
       "      <td>Male</td>\n",
       "      <td>1924</td>\n",
       "      <td>2005</td>\n",
       "      <td>385</td>\n",
       "    </tr>\n",
       "    <tr>\n",
       "      <th>6</th>\n",
       "      <td>7</td>\n",
       "      <td>Schendel, Mira</td>\n",
       "      <td>Female</td>\n",
       "      <td>1919</td>\n",
       "      <td>1988</td>\n",
       "      <td>3</td>\n",
       "    </tr>\n",
       "    <tr>\n",
       "      <th>7</th>\n",
       "      <td>8</td>\n",
       "      <td>Turner, William</td>\n",
       "      <td>Male</td>\n",
       "      <td>1775</td>\n",
       "      <td>1851</td>\n",
       "      <td>1861</td>\n",
       "    </tr>\n",
       "    <tr>\n",
       "      <th>8</th>\n",
       "      <td>9</td>\n",
       "      <td>Warhol, Andy</td>\n",
       "      <td>Male</td>\n",
       "      <td>1928</td>\n",
       "      <td>1987</td>\n",
       "      <td>272</td>\n",
       "    </tr>\n",
       "  </tbody>\n",
       "</table>\n",
       "</div>"
      ],
      "text/plain": [
       "   0          Beuys, Joseph    Male  1921  1986   588\n",
       "0  1        Constable, John    Male  1776  1837   249\n",
       "1  2       Daniell, William    Male  1769  1837   612\n",
       "2  3      Forbes, Elizabeth  Female  1859  1912   120\n",
       "3  4          Flaxman, John    Male  1755  1826   287\n",
       "4  5       Phillips, Thomas    Male  1770  1845   274\n",
       "5  6  Paolozzi, Sir Eduardo    Male  1924  2005   385\n",
       "6  7         Schendel, Mira  Female  1919  1988     3\n",
       "7  8        Turner, William    Male  1775  1851  1861\n",
       "8  9           Warhol, Andy    Male  1928  1987   272"
      ]
     },
     "execution_count": 68,
     "metadata": {},
     "output_type": "execute_result"
    }
   ],
   "source": [
    "tate_dataset.to_csv('tate_dataset.csv', index=True, header=False)\n",
    "tate_1 = pd.read_csv('tate_dataset.csv')\n",
    "tate_1"
   ]
  },
  {
   "cell_type": "markdown",
   "metadata": {
    "id": "0tHt7lPFAZvf"
   },
   "source": [
    "Delete the csv file now that we are done using it."
   ]
  },
  {
   "cell_type": "markdown",
   "metadata": {
    "id": "oQLf1Y_hAZvr"
   },
   "source": [
    "### pickle — Python object serialization\n",
    "\n",
    "This data format is Python-specific. This has the advantage that there are no restrictions imposed by external standards; however it means that non-Python programs may not be able to reconstruct pickled Python objects.\n",
    "\n"
   ]
  },
  {
   "cell_type": "code",
   "execution_count": 69,
   "metadata": {
    "executionInfo": {
     "elapsed": 1110,
     "status": "ok",
     "timestamp": 1604070997523,
     "user": {
      "displayName": "Andrea Piccione",
      "photoUrl": "https://lh3.googleusercontent.com/a-/AOh14GiSPFO34Ds8ny26kw1UmmNXztv1KJ8K3YgBNM11gw=s64",
      "userId": "08515391909662815456"
     },
     "user_tz": -60
    },
    "id": "stKRPdBTAZvr"
   },
   "outputs": [],
   "source": [
    "import pickle\n",
    "\n",
    "tate_dataset.to_pickle('tate_dataset.pkl')\n"
   ]
  },
  {
   "cell_type": "code",
   "execution_count": 70,
   "metadata": {
    "colab": {
     "base_uri": "https://localhost:8080/",
     "height": 343
    },
    "executionInfo": {
     "elapsed": 929,
     "status": "ok",
     "timestamp": 1604071000581,
     "user": {
      "displayName": "Andrea Piccione",
      "photoUrl": "https://lh3.googleusercontent.com/a-/AOh14GiSPFO34Ds8ny26kw1UmmNXztv1KJ8K3YgBNM11gw=s64",
      "userId": "08515391909662815456"
     },
     "user_tz": -60
    },
    "id": "Rc7RsQeKAZvt",
    "outputId": "224feed5-3d8a-470a-f3ec-351b4d4de829"
   },
   "outputs": [
    {
     "data": {
      "text/html": [
       "<div>\n",
       "<style scoped>\n",
       "    .dataframe tbody tr th:only-of-type {\n",
       "        vertical-align: middle;\n",
       "    }\n",
       "\n",
       "    .dataframe tbody tr th {\n",
       "        vertical-align: top;\n",
       "    }\n",
       "\n",
       "    .dataframe thead th {\n",
       "        text-align: right;\n",
       "    }\n",
       "</style>\n",
       "<table border=\"1\" class=\"dataframe\">\n",
       "  <thead>\n",
       "    <tr style=\"text-align: right;\">\n",
       "      <th></th>\n",
       "      <th>Name</th>\n",
       "      <th>Gender</th>\n",
       "      <th>Year_Birth</th>\n",
       "      <th>Year_Death</th>\n",
       "      <th>N_works</th>\n",
       "    </tr>\n",
       "  </thead>\n",
       "  <tbody>\n",
       "    <tr>\n",
       "      <th>0</th>\n",
       "      <td>Beuys, Joseph</td>\n",
       "      <td>Male</td>\n",
       "      <td>1921</td>\n",
       "      <td>1986</td>\n",
       "      <td>588</td>\n",
       "    </tr>\n",
       "    <tr>\n",
       "      <th>1</th>\n",
       "      <td>Constable, John</td>\n",
       "      <td>Male</td>\n",
       "      <td>1776</td>\n",
       "      <td>1837</td>\n",
       "      <td>249</td>\n",
       "    </tr>\n",
       "    <tr>\n",
       "      <th>2</th>\n",
       "      <td>Daniell, William</td>\n",
       "      <td>Male</td>\n",
       "      <td>1769</td>\n",
       "      <td>1837</td>\n",
       "      <td>612</td>\n",
       "    </tr>\n",
       "    <tr>\n",
       "      <th>3</th>\n",
       "      <td>Forbes, Elizabeth</td>\n",
       "      <td>Female</td>\n",
       "      <td>1859</td>\n",
       "      <td>1912</td>\n",
       "      <td>120</td>\n",
       "    </tr>\n",
       "    <tr>\n",
       "      <th>4</th>\n",
       "      <td>Flaxman, John</td>\n",
       "      <td>Male</td>\n",
       "      <td>1755</td>\n",
       "      <td>1826</td>\n",
       "      <td>287</td>\n",
       "    </tr>\n",
       "    <tr>\n",
       "      <th>5</th>\n",
       "      <td>Phillips, Thomas</td>\n",
       "      <td>Male</td>\n",
       "      <td>1770</td>\n",
       "      <td>1845</td>\n",
       "      <td>274</td>\n",
       "    </tr>\n",
       "    <tr>\n",
       "      <th>6</th>\n",
       "      <td>Paolozzi, Sir Eduardo</td>\n",
       "      <td>Male</td>\n",
       "      <td>1924</td>\n",
       "      <td>2005</td>\n",
       "      <td>385</td>\n",
       "    </tr>\n",
       "    <tr>\n",
       "      <th>7</th>\n",
       "      <td>Schendel, Mira</td>\n",
       "      <td>Female</td>\n",
       "      <td>1919</td>\n",
       "      <td>1988</td>\n",
       "      <td>3</td>\n",
       "    </tr>\n",
       "    <tr>\n",
       "      <th>8</th>\n",
       "      <td>Turner, William</td>\n",
       "      <td>Male</td>\n",
       "      <td>1775</td>\n",
       "      <td>1851</td>\n",
       "      <td>1861</td>\n",
       "    </tr>\n",
       "    <tr>\n",
       "      <th>9</th>\n",
       "      <td>Warhol, Andy</td>\n",
       "      <td>Male</td>\n",
       "      <td>1928</td>\n",
       "      <td>1987</td>\n",
       "      <td>272</td>\n",
       "    </tr>\n",
       "  </tbody>\n",
       "</table>\n",
       "</div>"
      ],
      "text/plain": [
       "                    Name  Gender  Year_Birth  Year_Death  N_works\n",
       "0          Beuys, Joseph    Male        1921        1986      588\n",
       "1        Constable, John    Male        1776        1837      249\n",
       "2       Daniell, William    Male        1769        1837      612\n",
       "3      Forbes, Elizabeth  Female        1859        1912      120\n",
       "4          Flaxman, John    Male        1755        1826      287\n",
       "5       Phillips, Thomas    Male        1770        1845      274\n",
       "6  Paolozzi, Sir Eduardo    Male        1924        2005      385\n",
       "7         Schendel, Mira  Female        1919        1988        3\n",
       "8        Turner, William    Male        1775        1851     1861\n",
       "9           Warhol, Andy    Male        1928        1987      272"
      ]
     },
     "execution_count": 70,
     "metadata": {},
     "output_type": "execute_result"
    }
   ],
   "source": [
    "tate_2 = pd.read_pickle('tate_dataset.pkl')\n",
    "tate_2"
   ]
  },
  {
   "cell_type": "markdown",
   "metadata": {
    "id": "4vHSnaOQAZvv"
   },
   "source": [
    "## 1.3 - Look at the data\n",
    "\n",
    "Now we will simply have a look at the data and make sure it is clean. \n",
    "\n",
    "### Data type\n",
    "Let's check the data type of the imported variables and the original DataFrame."
   ]
  },
  {
   "cell_type": "code",
   "execution_count": 71,
   "metadata": {
    "id": "AV3eoT35AZvw"
   },
   "outputs": [
    {
     "data": {
      "text/plain": [
       "0                 int64\n",
       "Beuys, Joseph    object\n",
       "Male             object\n",
       "1921              int64\n",
       "1986              int64\n",
       "588               int64\n",
       "dtype: object"
      ]
     },
     "execution_count": 71,
     "metadata": {},
     "output_type": "execute_result"
    }
   ],
   "source": [
    "# Check data type of the columns for Tate_1\n",
    "tate_1.dtypes"
   ]
  },
  {
   "cell_type": "code",
   "execution_count": 72,
   "metadata": {
    "id": "ACysmIDSAZvy"
   },
   "outputs": [
    {
     "data": {
      "text/plain": [
       "Name          object\n",
       "Gender        object\n",
       "Year_Birth     int64\n",
       "Year_Death     int64\n",
       "N_works        int64\n",
       "dtype: object"
      ]
     },
     "execution_count": 72,
     "metadata": {},
     "output_type": "execute_result"
    }
   ],
   "source": [
    "# Check data type of the columns for TateDataset\n",
    "tate_dataset.dtypes"
   ]
  },
  {
   "cell_type": "markdown",
   "metadata": {
    "id": "T3q0dEk0AZv0"
   },
   "source": [
    "We can also display the values of a single column and check their data type as follow:"
   ]
  },
  {
   "cell_type": "code",
   "execution_count": 73,
   "metadata": {
    "id": "zfMt0x2lAZv0"
   },
   "outputs": [
    {
     "data": {
      "text/plain": [
       "0      Male\n",
       "1      Male\n",
       "2      Male\n",
       "3    Female\n",
       "4      Male\n",
       "5      Male\n",
       "6      Male\n",
       "7    Female\n",
       "8      Male\n",
       "9      Male\n",
       "Name: Gender, dtype: object"
      ]
     },
     "execution_count": 73,
     "metadata": {},
     "output_type": "execute_result"
    }
   ],
   "source": [
    "tate_dataset['Gender']"
   ]
  },
  {
   "cell_type": "markdown",
   "metadata": {
    "id": "hympM9yTEuud"
   },
   "source": [
    "# Task 2: Application Programming Interfaces (APIs)"
   ]
  },
  {
   "cell_type": "markdown",
   "metadata": {
    "id": "vOGrvILtFv0K"
   },
   "source": [
    "## 2.1 - Downloading climate data from the Internet\n",
    "\n",
    "We will now explore real world data, namely a dataset of climate information of 5 cities in Denmark between 1980-2018. The original raw-data was originally obtained from [National Climatic Data Center (NCDC)](https://www7.ncdc.noaa.gov/CDO/cdoselect.cmd).\n",
    "\n",
    "In particular, the selected cities in Denmark are:\n",
    "- Aalborg, \n",
    "- Aarhus, \n",
    "- Esbjerg, \n",
    "- Odense. \n",
    "- Roskilde\n",
    "\n",
    "In the following, we will download the dataset using an API instead of loading a local source file.\n",
    "\n",
    "### What is an API? \n",
    "Application Programming Interface (API) is a communication protocol between the user and the server (i.e., web server) that enables transmittion of data. The user making a request to an API server can download the desidered resources. \n",
    "\n",
    "### How to make a request in python?\n",
    "There are many different way to request data. \n",
    "In the following, we will use the package **urllib** that collects several modules for working with URLs.\n",
    "\n",
    "In particular, [urlib.request](https://docs.python.org/3/library/urllib.request.html#module-urllib.request) is a module for opening and reading URLs.\n"
   ]
  },
  {
   "cell_type": "markdown",
   "metadata": {
    "id": "DiwhudMrKQUP"
   },
   "source": [
    "### - Download climate data\n",
    "\n",
    "\n",
    "The following functions allow to download and store the dataset in a specific folder.\n",
    "\n",
    "How to use:\n",
    "\n",
    "- Set the source (i.e., URL) of the desidered dataset in `data_url`.\n",
    "- Set the `data_dir` variable with the local directory where to store the data.\n",
    "- Call `download_and_extract()` to download the dataset if it is not already located in the given data_dir.\n",
    "- Load the data in the interactive Python notebook so it can be used in your scripts (you can use `load_original_data()`).\n",
    "\n",
    "**NOTE** Open the tab below to see the downloading functions in more detail."
   ]
  },
  {
   "cell_type": "code",
   "execution_count": 74,
   "metadata": {
    "cellView": "both",
    "executionInfo": {
     "elapsed": 1049,
     "status": "ok",
     "timestamp": 1604071113039,
     "user": {
      "displayName": "Andrea Piccione",
      "photoUrl": "https://lh3.googleusercontent.com/a-/AOh14GiSPFO34Ds8ny26kw1UmmNXztv1KJ8K3YgBNM11gw=s64",
      "userId": "08515391909662815456"
     },
     "user_tz": -60
    },
    "id": "DjVqxHOLE6I4"
   },
   "outputs": [],
   "source": [
    "#@title Functions to download data \n",
    "########################################################################\n",
    "#\n",
    "# This file is a partially modified version of one of the TensorFlow Tutorials available at:\n",
    "#\n",
    "# https://github.com/Hvass-Labs/TensorFlow-Tutorials\n",
    "#\n",
    "# Published under the MIT License. See the file LICENSE for details.\n",
    "#\n",
    "# Copyright 2018 by Magnus Erik Hvass Pedersen\n",
    "#\n",
    "########################################################################\n",
    "\n",
    "import sys\n",
    "import os\n",
    "import urllib.request\n",
    "import tarfile\n",
    "import zipfile\n",
    "\n",
    "\n",
    "\n",
    "def _print_download_progress(count, block_size, total_size):\n",
    "    \"\"\"\n",
    "    Function used for printing the download progress.\n",
    "    Used as a call-back function in maybe_download_and_extract().\n",
    "    \"\"\"\n",
    "\n",
    "    # Percentage completion.\n",
    "    pct_complete = float(count * block_size) / total_size\n",
    "\n",
    "    # Limit it because rounding errors may cause it to exceed 100%.\n",
    "    pct_complete = min(1.0, pct_complete)\n",
    "\n",
    "    # Status-message. Note the \\r which means the line should overwrite itself.\n",
    "    msg = \"\\r- Download progress: {0:.1%}\".format(pct_complete)\n",
    "\n",
    "    # Print it.\n",
    "    sys.stdout.write(msg)\n",
    "    sys.stdout.flush()\n",
    "\n",
    "\n",
    "def download(base_url, filename, download_dir):\n",
    "    \"\"\"\n",
    "    Download the given file if it does not already exist in the download_dir.\n",
    "    :param base_url: The internet URL without the filename.\n",
    "    :param filename: The filename that will be added to the base_url.\n",
    "    :param download_dir: Local directory for storing the file.\n",
    "    \"\"\"\n",
    "\n",
    "    # Path for local file.\n",
    "    save_path = os.path.join(download_dir, filename)\n",
    "\n",
    "    # Check if the file already exists, otherwise we need to download it now.\n",
    "    if not os.path.exists(save_path):\n",
    "        # Check if the download directory exists, otherwise create it.\n",
    "        if not os.path.exists(download_dir):\n",
    "            os.makedirs(download_dir)\n",
    "\n",
    "        print(\"Downloading\", filename, \"...\")\n",
    "\n",
    "        # Download the file from the internet.\n",
    "        url = base_url + filename\n",
    "        file_path, _ = urllib.request.urlretrieve(url=url,\n",
    "                                                  filename=save_path,\n",
    "                                                  reporthook=_print_download_progress)\n",
    "\n",
    "        print(\" Done!\")\n",
    "\n",
    "\n",
    "def download_and_extract(url, download_dir):\n",
    "    \"\"\"\n",
    "    Download and extract the data if it doesn't already exist.\n",
    "    Assumes the url is a tar-ball file.\n",
    "    :param url:\n",
    "        Internet URL for the tar-file to download.\n",
    "    :param download_dir:\n",
    "        Directory where the downloaded file is saved.\n",
    "    \"\"\"\n",
    "\n",
    "    # Filename for saving the file downloaded from the internet.\n",
    "    # Use the filename from the URL and add it to the download_dir.\n",
    "    filename = url.split('/')[-1]\n",
    "    file_path = os.path.join(download_dir, filename)\n",
    "\n",
    "    # Check if the file already exists.\n",
    "    # If it exists then we assume it has also been extracted,\n",
    "    # otherwise we need to download and extract it now.\n",
    "    if not os.path.exists(file_path):\n",
    "        # Check if the download directory exists, otherwise create it.\n",
    "        if not os.path.exists(download_dir):\n",
    "            os.makedirs(download_dir)\n",
    "\n",
    "        # Download the file from the internet.\n",
    "        file_path, _ = urllib.request.urlretrieve(url=url,\n",
    "                                                  filename=file_path,\n",
    "                                                  reporthook=_print_download_progress)\n",
    "\n",
    "        print()\n",
    "        print(\"Download finished. Extracting files.\")\n",
    "\n",
    "        if file_path.endswith(\".zip\"):\n",
    "            # Unpack the zip-file.\n",
    "            zipfile.ZipFile(file=file_path, mode=\"r\").extractall(download_dir)\n",
    "        elif file_path.endswith((\".tar.gz\", \".tgz\")):\n",
    "            # Unpack the tar-ball.\n",
    "            tarfile.open(name=file_path, mode=\"r:gz\").extractall(download_dir)\n",
    "\n",
    "        print(\"Done.\")\n",
    "    else:\n",
    "        print(\"Data has apparently already been downloaded and unpacked.\")\n",
    "        "
   ]
  },
  {
   "cell_type": "markdown",
   "metadata": {
    "id": "jhAOVRKTclRR"
   },
   "source": [
    "First, we define where we want to download the dataset (you are free to choose another directory) and the URL of the dataset to be downloaded."
   ]
  },
  {
   "cell_type": "code",
   "execution_count": 75,
   "metadata": {
    "executionInfo": {
     "elapsed": 957,
     "status": "ok",
     "timestamp": 1604071101749,
     "user": {
      "displayName": "Andrea Piccione",
      "photoUrl": "https://lh3.googleusercontent.com/a-/AOh14GiSPFO34Ds8ny26kw1UmmNXztv1KJ8K3YgBNM11gw=s64",
      "userId": "08515391909662815456"
     },
     "user_tz": -60
    },
    "id": "mPl5lGC_cjRa"
   },
   "outputs": [],
   "source": [
    "# Location of the dataset on the internet.\n",
    "data_url = \"https://github.com/Hvass-Labs/weather-denmark/raw/master/weather-denmark.tar.gz\"\n",
    "\n",
    "# Local directory where you want to download and save the dataset.\n",
    "data_dir = \"weather-data/\""
   ]
  },
  {
   "cell_type": "markdown",
   "metadata": {
    "id": "_fUv_1U7AGIS"
   },
   "source": [
    "Now, we can download the dataset into the chosen local directory"
   ]
  },
  {
   "cell_type": "code",
   "execution_count": 76,
   "metadata": {
    "colab": {
     "base_uri": "https://localhost:8080/"
    },
    "executionInfo": {
     "elapsed": 15580,
     "status": "ok",
     "timestamp": 1604071138763,
     "user": {
      "displayName": "Andrea Piccione",
      "photoUrl": "https://lh3.googleusercontent.com/a-/AOh14GiSPFO34Ds8ny26kw1UmmNXztv1KJ8K3YgBNM11gw=s64",
      "userId": "08515391909662815456"
     },
     "user_tz": -60
    },
    "id": "6P4iL6WfAGIT",
    "outputId": "bb35e850-3937-4b0a-8bb2-f35b752edd52"
   },
   "outputs": [
    {
     "name": "stdout",
     "output_type": "stream",
     "text": [
      "Data has apparently already been downloaded and unpacked.\n"
     ]
    }
   ],
   "source": [
    "download_and_extract(url=data_url, download_dir=data_dir)"
   ]
  },
  {
   "cell_type": "markdown",
   "metadata": {
    "id": "sLC9mO_RAGIY"
   },
   "source": [
    "**[TO DO]:** Check the local folder? In which format the dataset has been downloaded?\n",
    "*The data has been downloaded in two different formats: .csv and .pkl. We can decide which one to use (Pandas can easily handle both of them).*\n",
    "\n",
    "**[TO DO]:** Select a format and load the dataset ."
   ]
  },
  {
   "cell_type": "code",
   "execution_count": 77,
   "metadata": {
    "colab": {
     "base_uri": "https://localhost:8080/",
     "height": 402
    },
    "executionInfo": {
     "elapsed": 3579,
     "status": "ok",
     "timestamp": 1604071273314,
     "user": {
      "displayName": "Andrea Piccione",
      "photoUrl": "https://lh3.googleusercontent.com/a-/AOh14GiSPFO34Ds8ny26kw1UmmNXztv1KJ8K3YgBNM11gw=s64",
      "userId": "08515391909662815456"
     },
     "user_tz": -60
    },
    "id": "36clsIOhq_CR",
    "outputId": "72e07848-4917-4dd4-ef1c-162c53fea3ee"
   },
   "outputs": [
    {
     "data": {
      "text/html": [
       "<div>\n",
       "<style scoped>\n",
       "    .dataframe tbody tr th:only-of-type {\n",
       "        vertical-align: middle;\n",
       "    }\n",
       "\n",
       "    .dataframe tbody tr th {\n",
       "        vertical-align: top;\n",
       "    }\n",
       "\n",
       "    .dataframe thead th {\n",
       "        text-align: right;\n",
       "    }\n",
       "</style>\n",
       "<table border=\"1\" class=\"dataframe\">\n",
       "  <thead>\n",
       "    <tr style=\"text-align: right;\">\n",
       "      <th></th>\n",
       "      <th>City</th>\n",
       "      <th>DateTime</th>\n",
       "      <th>Temp</th>\n",
       "      <th>Pressure</th>\n",
       "      <th>WindSpeed</th>\n",
       "      <th>WindDir</th>\n",
       "    </tr>\n",
       "  </thead>\n",
       "  <tbody>\n",
       "    <tr>\n",
       "      <th>0</th>\n",
       "      <td>Aalborg</td>\n",
       "      <td>1980-03-01 00:00:00</td>\n",
       "      <td>5.0</td>\n",
       "      <td>1008.1</td>\n",
       "      <td>11.3</td>\n",
       "      <td>290.0</td>\n",
       "    </tr>\n",
       "    <tr>\n",
       "      <th>1</th>\n",
       "      <td>Aalborg</td>\n",
       "      <td>1980-03-01 00:20:00</td>\n",
       "      <td>4.0</td>\n",
       "      <td>NaN</td>\n",
       "      <td>9.2</td>\n",
       "      <td>270.0</td>\n",
       "    </tr>\n",
       "    <tr>\n",
       "      <th>2</th>\n",
       "      <td>Aalborg</td>\n",
       "      <td>1980-03-01 00:50:00</td>\n",
       "      <td>4.0</td>\n",
       "      <td>NaN</td>\n",
       "      <td>9.2</td>\n",
       "      <td>280.0</td>\n",
       "    </tr>\n",
       "    <tr>\n",
       "      <th>3</th>\n",
       "      <td>Aalborg</td>\n",
       "      <td>1980-03-01 01:20:00</td>\n",
       "      <td>4.0</td>\n",
       "      <td>NaN</td>\n",
       "      <td>9.2</td>\n",
       "      <td>280.0</td>\n",
       "    </tr>\n",
       "    <tr>\n",
       "      <th>4</th>\n",
       "      <td>Aalborg</td>\n",
       "      <td>1980-03-01 01:50:00</td>\n",
       "      <td>4.0</td>\n",
       "      <td>NaN</td>\n",
       "      <td>8.7</td>\n",
       "      <td>270.0</td>\n",
       "    </tr>\n",
       "    <tr>\n",
       "      <th>...</th>\n",
       "      <td>...</td>\n",
       "      <td>...</td>\n",
       "      <td>...</td>\n",
       "      <td>...</td>\n",
       "      <td>...</td>\n",
       "      <td>...</td>\n",
       "    </tr>\n",
       "    <tr>\n",
       "      <th>2918145</th>\n",
       "      <td>Roskilde</td>\n",
       "      <td>2018-03-01 22:20:00</td>\n",
       "      <td>-5.0</td>\n",
       "      <td>NaN</td>\n",
       "      <td>5.1</td>\n",
       "      <td>70.0</td>\n",
       "    </tr>\n",
       "    <tr>\n",
       "      <th>2918146</th>\n",
       "      <td>Roskilde</td>\n",
       "      <td>2018-03-01 22:50:00</td>\n",
       "      <td>-5.0</td>\n",
       "      <td>NaN</td>\n",
       "      <td>4.1</td>\n",
       "      <td>70.0</td>\n",
       "    </tr>\n",
       "    <tr>\n",
       "      <th>2918147</th>\n",
       "      <td>Roskilde</td>\n",
       "      <td>2018-03-01 23:00:00</td>\n",
       "      <td>-5.3</td>\n",
       "      <td>1018.6</td>\n",
       "      <td>4.1</td>\n",
       "      <td>60.0</td>\n",
       "    </tr>\n",
       "    <tr>\n",
       "      <th>2918148</th>\n",
       "      <td>Roskilde</td>\n",
       "      <td>2018-03-01 23:20:00</td>\n",
       "      <td>-5.0</td>\n",
       "      <td>NaN</td>\n",
       "      <td>3.6</td>\n",
       "      <td>60.0</td>\n",
       "    </tr>\n",
       "    <tr>\n",
       "      <th>2918149</th>\n",
       "      <td>Roskilde</td>\n",
       "      <td>2018-03-01 23:50:00</td>\n",
       "      <td>-5.0</td>\n",
       "      <td>NaN</td>\n",
       "      <td>3.6</td>\n",
       "      <td>60.0</td>\n",
       "    </tr>\n",
       "  </tbody>\n",
       "</table>\n",
       "<p>2918150 rows × 6 columns</p>\n",
       "</div>"
      ],
      "text/plain": [
       "             City             DateTime  Temp  Pressure  WindSpeed  WindDir\n",
       "0         Aalborg  1980-03-01 00:00:00   5.0    1008.1       11.3    290.0\n",
       "1         Aalborg  1980-03-01 00:20:00   4.0       NaN        9.2    270.0\n",
       "2         Aalborg  1980-03-01 00:50:00   4.0       NaN        9.2    280.0\n",
       "3         Aalborg  1980-03-01 01:20:00   4.0       NaN        9.2    280.0\n",
       "4         Aalborg  1980-03-01 01:50:00   4.0       NaN        8.7    270.0\n",
       "...           ...                  ...   ...       ...        ...      ...\n",
       "2918145  Roskilde  2018-03-01 22:20:00  -5.0       NaN        5.1     70.0\n",
       "2918146  Roskilde  2018-03-01 22:50:00  -5.0       NaN        4.1     70.0\n",
       "2918147  Roskilde  2018-03-01 23:00:00  -5.3    1018.6        4.1     60.0\n",
       "2918148  Roskilde  2018-03-01 23:20:00  -5.0       NaN        3.6     60.0\n",
       "2918149  Roskilde  2018-03-01 23:50:00  -5.0       NaN        3.6     60.0\n",
       "\n",
       "[2918150 rows x 6 columns]"
      ]
     },
     "execution_count": 77,
     "metadata": {},
     "output_type": "execute_result"
    }
   ],
   "source": [
    "df_csv = pd.read_csv('./weather-data/weather-denmark.csv')\n",
    "\n",
    "df_csv"
   ]
  },
  {
   "cell_type": "markdown",
   "metadata": {
    "id": "MN4_qGC4AGIc"
   },
   "source": [
    "**More advanced solution for loading dataset**:\n",
    "\n",
    "In this case, the dataset was downloaded in two different formats. \n",
    "We can define the path where the files have been stored as follows:\n",
    "- **path_original_data_pickle( )** is the location of the original data in pickle format\n",
    "- **path_original_data_csv( )** is the location the original data in .csv"
   ]
  },
  {
   "cell_type": "code",
   "execution_count": 78,
   "metadata": {
    "executionInfo": {
     "elapsed": 895,
     "status": "ok",
     "timestamp": 1604071322605,
     "user": {
      "displayName": "Andrea Piccione",
      "photoUrl": "https://lh3.googleusercontent.com/a-/AOh14GiSPFO34Ds8ny26kw1UmmNXztv1KJ8K3YgBNM11gw=s64",
      "userId": "08515391909662815456"
     },
     "user_tz": -60
    },
    "id": "NO8jevNRAGIc"
   },
   "outputs": [],
   "source": [
    "def path_original_data_pickle():\n",
    "    return os.path.join(data_dir, \"weather-denmark.pkl\")\n",
    "\n",
    "def path_original_data_csv():\n",
    "    return os.path.join(data_dir, \"weather-denmark.csv\")"
   ]
  },
  {
   "cell_type": "markdown",
   "metadata": {
    "id": "KoNQaCyAAGIg"
   },
   "source": [
    "Now we can load the data in pickle format through the following function:"
   ]
  },
  {
   "cell_type": "code",
   "execution_count": 79,
   "metadata": {
    "executionInfo": {
     "elapsed": 965,
     "status": "ok",
     "timestamp": 1604071324550,
     "user": {
      "displayName": "Andrea Piccione",
      "photoUrl": "https://lh3.googleusercontent.com/a-/AOh14GiSPFO34Ds8ny26kw1UmmNXztv1KJ8K3YgBNM11gw=s64",
      "userId": "08515391909662815456"
     },
     "user_tz": -60
    },
    "id": "JHdwG7c6AGIh"
   },
   "outputs": [],
   "source": [
    "def load_original_data():\n",
    "    return pd.read_pickle(path_original_data_pickle())"
   ]
  },
  {
   "cell_type": "code",
   "execution_count": 80,
   "metadata": {
    "colab": {
     "base_uri": "https://localhost:8080/",
     "height": 431
    },
    "executionInfo": {
     "elapsed": 945,
     "status": "ok",
     "timestamp": 1604071326911,
     "user": {
      "displayName": "Andrea Piccione",
      "photoUrl": "https://lh3.googleusercontent.com/a-/AOh14GiSPFO34Ds8ny26kw1UmmNXztv1KJ8K3YgBNM11gw=s64",
      "userId": "08515391909662815456"
     },
     "user_tz": -60
    },
    "id": "0-XPffh3AGIj",
    "outputId": "0437e8ff-bc1a-48bc-b6b0-1dc2c8295810"
   },
   "outputs": [
    {
     "data": {
      "text/html": [
       "<div>\n",
       "<style scoped>\n",
       "    .dataframe tbody tr th:only-of-type {\n",
       "        vertical-align: middle;\n",
       "    }\n",
       "\n",
       "    .dataframe tbody tr th {\n",
       "        vertical-align: top;\n",
       "    }\n",
       "\n",
       "    .dataframe thead th {\n",
       "        text-align: right;\n",
       "    }\n",
       "</style>\n",
       "<table border=\"1\" class=\"dataframe\">\n",
       "  <thead>\n",
       "    <tr style=\"text-align: right;\">\n",
       "      <th></th>\n",
       "      <th></th>\n",
       "      <th>Temp</th>\n",
       "      <th>Pressure</th>\n",
       "      <th>WindSpeed</th>\n",
       "      <th>WindDir</th>\n",
       "    </tr>\n",
       "    <tr>\n",
       "      <th>City</th>\n",
       "      <th>DateTime</th>\n",
       "      <th></th>\n",
       "      <th></th>\n",
       "      <th></th>\n",
       "      <th></th>\n",
       "    </tr>\n",
       "  </thead>\n",
       "  <tbody>\n",
       "    <tr>\n",
       "      <th rowspan=\"5\" valign=\"top\">Aalborg</th>\n",
       "      <th>1980-03-01 00:00:00</th>\n",
       "      <td>5.0</td>\n",
       "      <td>1008.1</td>\n",
       "      <td>11.3</td>\n",
       "      <td>290.0</td>\n",
       "    </tr>\n",
       "    <tr>\n",
       "      <th>1980-03-01 00:20:00</th>\n",
       "      <td>4.0</td>\n",
       "      <td>NaN</td>\n",
       "      <td>9.2</td>\n",
       "      <td>270.0</td>\n",
       "    </tr>\n",
       "    <tr>\n",
       "      <th>1980-03-01 00:50:00</th>\n",
       "      <td>4.0</td>\n",
       "      <td>NaN</td>\n",
       "      <td>9.2</td>\n",
       "      <td>280.0</td>\n",
       "    </tr>\n",
       "    <tr>\n",
       "      <th>1980-03-01 01:20:00</th>\n",
       "      <td>4.0</td>\n",
       "      <td>NaN</td>\n",
       "      <td>9.2</td>\n",
       "      <td>280.0</td>\n",
       "    </tr>\n",
       "    <tr>\n",
       "      <th>1980-03-01 01:50:00</th>\n",
       "      <td>4.0</td>\n",
       "      <td>NaN</td>\n",
       "      <td>8.7</td>\n",
       "      <td>270.0</td>\n",
       "    </tr>\n",
       "    <tr>\n",
       "      <th>...</th>\n",
       "      <th>...</th>\n",
       "      <td>...</td>\n",
       "      <td>...</td>\n",
       "      <td>...</td>\n",
       "      <td>...</td>\n",
       "    </tr>\n",
       "    <tr>\n",
       "      <th rowspan=\"5\" valign=\"top\">Roskilde</th>\n",
       "      <th>2018-03-01 22:20:00</th>\n",
       "      <td>-5.0</td>\n",
       "      <td>NaN</td>\n",
       "      <td>5.1</td>\n",
       "      <td>70.0</td>\n",
       "    </tr>\n",
       "    <tr>\n",
       "      <th>2018-03-01 22:50:00</th>\n",
       "      <td>-5.0</td>\n",
       "      <td>NaN</td>\n",
       "      <td>4.1</td>\n",
       "      <td>70.0</td>\n",
       "    </tr>\n",
       "    <tr>\n",
       "      <th>2018-03-01 23:00:00</th>\n",
       "      <td>-5.3</td>\n",
       "      <td>1018.6</td>\n",
       "      <td>4.1</td>\n",
       "      <td>60.0</td>\n",
       "    </tr>\n",
       "    <tr>\n",
       "      <th>2018-03-01 23:20:00</th>\n",
       "      <td>-5.0</td>\n",
       "      <td>NaN</td>\n",
       "      <td>3.6</td>\n",
       "      <td>60.0</td>\n",
       "    </tr>\n",
       "    <tr>\n",
       "      <th>2018-03-01 23:50:00</th>\n",
       "      <td>-5.0</td>\n",
       "      <td>NaN</td>\n",
       "      <td>3.6</td>\n",
       "      <td>60.0</td>\n",
       "    </tr>\n",
       "  </tbody>\n",
       "</table>\n",
       "<p>2918150 rows × 4 columns</p>\n",
       "</div>"
      ],
      "text/plain": [
       "                              Temp  Pressure  WindSpeed  WindDir\n",
       "City     DateTime                                               \n",
       "Aalborg  1980-03-01 00:00:00   5.0    1008.1       11.3    290.0\n",
       "         1980-03-01 00:20:00   4.0       NaN        9.2    270.0\n",
       "         1980-03-01 00:50:00   4.0       NaN        9.2    280.0\n",
       "         1980-03-01 01:20:00   4.0       NaN        9.2    280.0\n",
       "         1980-03-01 01:50:00   4.0       NaN        8.7    270.0\n",
       "...                            ...       ...        ...      ...\n",
       "Roskilde 2018-03-01 22:20:00  -5.0       NaN        5.1     70.0\n",
       "         2018-03-01 22:50:00  -5.0       NaN        4.1     70.0\n",
       "         2018-03-01 23:00:00  -5.3    1018.6        4.1     60.0\n",
       "         2018-03-01 23:20:00  -5.0       NaN        3.6     60.0\n",
       "         2018-03-01 23:50:00  -5.0       NaN        3.6     60.0\n",
       "\n",
       "[2918150 rows x 4 columns]"
      ]
     },
     "execution_count": 80,
     "metadata": {},
     "output_type": "execute_result"
    }
   ],
   "source": [
    "df = load_original_data()\n",
    "df"
   ]
  },
  {
   "cell_type": "markdown",
   "metadata": {
    "id": "DMCJQr_SAGIm"
   },
   "source": [
    "### - Undestanding the data\n",
    "\n",
    "**_[TO DO]_**: Have a quick overview of the downloaded dataset. \n",
    "In particular, focus on:\n",
    "\n",
    "- Understanding the variables contained in the dataframe\n",
    "- Check the DateTime for 2 cities\n",
    "\n",
    "*In this case, the index of the dataframe is not an integer (i.e., 0, 1, 2,...) as seen in the previous lab. But we have a multiple index (MultiIndex) [pandas.DataFrame.xs](https://pandas.pydata.org/pandas-docs/stable/reference/api/pandas.DataFrame.xs.html). Check the website to see how to select the data of the desidered city.*"
   ]
  },
  {
   "cell_type": "code",
   "execution_count": 81,
   "metadata": {
    "colab": {
     "base_uri": "https://localhost:8080/"
    },
    "executionInfo": {
     "elapsed": 1268,
     "status": "ok",
     "timestamp": 1604071331320,
     "user": {
      "displayName": "Andrea Piccione",
      "photoUrl": "https://lh3.googleusercontent.com/a-/AOh14GiSPFO34Ds8ny26kw1UmmNXztv1KJ8K3YgBNM11gw=s64",
      "userId": "08515391909662815456"
     },
     "user_tz": -60
    },
    "id": "-_dXNZFqd6rk",
    "outputId": "6653c3b3-7e3a-49c2-cbac-b4b4ed3a1ed2"
   },
   "outputs": [
    {
     "name": "stdout",
     "output_type": "stream",
     "text": [
      "Index(['Temp', 'Pressure', 'WindSpeed', 'WindDir'], dtype='object')\n",
      "MultiIndex([( 'Aalborg', '1980-03-01 00:00:00'),\n",
      "            ( 'Aalborg', '1980-03-01 00:20:00'),\n",
      "            ( 'Aalborg', '1980-03-01 00:50:00'),\n",
      "            ( 'Aalborg', '1980-03-01 01:20:00'),\n",
      "            ( 'Aalborg', '1980-03-01 01:50:00'),\n",
      "            ( 'Aalborg', '1980-03-01 02:20:00'),\n",
      "            ( 'Aalborg', '1980-03-01 03:00:00'),\n",
      "            ( 'Aalborg', '1980-03-01 03:20:00'),\n",
      "            ( 'Aalborg', '1980-03-01 04:00:00'),\n",
      "            ( 'Aalborg', '1980-03-01 04:01:00'),\n",
      "            ...\n",
      "            ('Roskilde', '2018-03-01 20:50:00'),\n",
      "            ('Roskilde', '2018-03-01 21:00:00'),\n",
      "            ('Roskilde', '2018-03-01 21:20:00'),\n",
      "            ('Roskilde', '2018-03-01 21:50:00'),\n",
      "            ('Roskilde', '2018-03-01 22:00:00'),\n",
      "            ('Roskilde', '2018-03-01 22:20:00'),\n",
      "            ('Roskilde', '2018-03-01 22:50:00'),\n",
      "            ('Roskilde', '2018-03-01 23:00:00'),\n",
      "            ('Roskilde', '2018-03-01 23:20:00'),\n",
      "            ('Roskilde', '2018-03-01 23:50:00')],\n",
      "           names=['City', 'DateTime'], length=2918150)\n"
     ]
    }
   ],
   "source": [
    "print(df.columns)\n",
    "print(df.index)"
   ]
  },
  {
   "cell_type": "code",
   "execution_count": 82,
   "metadata": {
    "colab": {
     "base_uri": "https://localhost:8080/"
    },
    "executionInfo": {
     "elapsed": 921,
     "status": "ok",
     "timestamp": 1604071543095,
     "user": {
      "displayName": "Andrea Piccione",
      "photoUrl": "https://lh3.googleusercontent.com/a-/AOh14GiSPFO34Ds8ny26kw1UmmNXztv1KJ8K3YgBNM11gw=s64",
      "userId": "08515391909662815456"
     },
     "user_tz": -60
    },
    "id": "gpBrFaV5HB1H",
    "outputId": "6d6cadd8-d9c9-471b-ea09-ecd7ef1768e3"
   },
   "outputs": [
    {
     "data": {
      "text/plain": [
       "DatetimeIndex(['1980-03-01 00:00:00', '1980-03-01 00:20:00',\n",
       "               '1980-03-01 00:50:00', '1980-03-01 01:20:00',\n",
       "               '1980-03-01 01:50:00', '1980-03-01 02:20:00',\n",
       "               '1980-03-01 03:00:00', '1980-03-01 03:20:00',\n",
       "               '1980-03-01 04:00:00', '1980-03-01 04:01:00',\n",
       "               ...\n",
       "               '2018-03-01 21:20:00', '2018-03-01 21:50:00',\n",
       "               '2018-03-01 22:00:00', '2018-03-01 22:20:00',\n",
       "               '2018-03-01 22:30:00', '2018-03-01 22:50:00',\n",
       "               '2018-03-01 23:00:00', '2018-03-01 23:04:00',\n",
       "               '2018-03-01 23:21:00', '2018-03-01 23:50:00'],\n",
       "              dtype='datetime64[ns]', name='DateTime', length=759897, freq=None)"
      ]
     },
     "execution_count": 82,
     "metadata": {},
     "output_type": "execute_result"
    }
   ],
   "source": [
    "df.xs('Aalborg').index"
   ]
  },
  {
   "cell_type": "code",
   "execution_count": 83,
   "metadata": {
    "colab": {
     "base_uri": "https://localhost:8080/"
    },
    "executionInfo": {
     "elapsed": 1001,
     "status": "ok",
     "timestamp": 1604071563600,
     "user": {
      "displayName": "Andrea Piccione",
      "photoUrl": "https://lh3.googleusercontent.com/a-/AOh14GiSPFO34Ds8ny26kw1UmmNXztv1KJ8K3YgBNM11gw=s64",
      "userId": "08515391909662815456"
     },
     "user_tz": -60
    },
    "id": "b66VS33xHWw0",
    "outputId": "4374cc28-6f33-4675-c355-af49d4928e3e"
   },
   "outputs": [
    {
     "data": {
      "text/plain": [
       "DatetimeIndex(['1980-03-01 10:50:00', '1980-03-01 12:50:00',\n",
       "               '1980-03-01 13:50:00', '1980-03-01 15:50:00',\n",
       "               '1980-03-01 16:50:00', '1980-03-02 04:50:00',\n",
       "               '1980-03-02 06:50:00', '1980-03-02 07:50:00',\n",
       "               '1980-03-02 09:50:00', '1980-03-02 10:50:00',\n",
       "               ...\n",
       "               '2018-03-01 20:50:00', '2018-03-01 21:00:00',\n",
       "               '2018-03-01 21:20:00', '2018-03-01 21:50:00',\n",
       "               '2018-03-01 22:00:00', '2018-03-01 22:20:00',\n",
       "               '2018-03-01 22:50:00', '2018-03-01 23:00:00',\n",
       "               '2018-03-01 23:20:00', '2018-03-01 23:50:00'],\n",
       "              dtype='datetime64[ns]', name='DateTime', length=569852, freq=None)"
      ]
     },
     "execution_count": 83,
     "metadata": {},
     "output_type": "execute_result"
    }
   ],
   "source": [
    "df.xs('Roskilde').index"
   ]
  },
  {
   "cell_type": "markdown",
   "metadata": {
    "id": "ZYcAldYgeOmq"
   },
   "source": [
    "## 2.2 - Interacting with a server to query a subset of some data bank\n",
    "\n",
    "We will now learn how to query a data bank to retrieve only the relevant proportion data for a task. We will be using the World Bank Data API to access World's renewable energy consumtpion data. \n",
    "\n",
    "\n"
   ]
  },
  {
   "cell_type": "markdown",
   "metadata": {
    "id": "Pz0G-PnEllEE"
   },
   "source": [
    "You first need to install the World Bank API. In a terminal, run the following command:\n",
    "\n",
    "``>> pip install wbdata``\n",
    "\n"
   ]
  },
  {
   "cell_type": "code",
   "execution_count": 84,
   "metadata": {
    "colab": {
     "base_uri": "https://localhost:8080/"
    },
    "executionInfo": {
     "elapsed": 5230,
     "status": "ok",
     "timestamp": 1604071605328,
     "user": {
      "displayName": "Andrea Piccione",
      "photoUrl": "https://lh3.googleusercontent.com/a-/AOh14GiSPFO34Ds8ny26kw1UmmNXztv1KJ8K3YgBNM11gw=s64",
      "userId": "08515391909662815456"
     },
     "user_tz": -60
    },
    "id": "TLfgZM1s9uwa",
    "outputId": "1ad45b96-d356-498b-c65d-b19615c0daab"
   },
   "outputs": [
    {
     "name": "stdout",
     "output_type": "stream",
     "text": [
      "Requirement already satisfied: wbdata in /Users/xumujie/opt/anaconda3/envs/daps/lib/python3.7/site-packages (0.3.0)\n",
      "Requirement already satisfied: decorator>=4.0 in /Users/xumujie/opt/anaconda3/envs/daps/lib/python3.7/site-packages (from wbdata) (5.1.1)\n",
      "Requirement already satisfied: appdirs<2.0,>=1.4 in /Users/xumujie/opt/anaconda3/envs/daps/lib/python3.7/site-packages (from wbdata) (1.4.4)\n",
      "Requirement already satisfied: requests>=2.0 in /Users/xumujie/opt/anaconda3/envs/daps/lib/python3.7/site-packages (from wbdata) (2.28.1)\n",
      "Requirement already satisfied: tabulate>=0.8.5 in /Users/xumujie/opt/anaconda3/envs/daps/lib/python3.7/site-packages (from wbdata) (0.9.0)\n",
      "Requirement already satisfied: charset-normalizer<3,>=2 in /Users/xumujie/opt/anaconda3/envs/daps/lib/python3.7/site-packages (from requests>=2.0->wbdata) (2.1.1)\n",
      "Requirement already satisfied: idna<4,>=2.5 in /Users/xumujie/opt/anaconda3/envs/daps/lib/python3.7/site-packages (from requests>=2.0->wbdata) (3.4)\n",
      "Requirement already satisfied: urllib3<1.27,>=1.21.1 in /Users/xumujie/opt/anaconda3/envs/daps/lib/python3.7/site-packages (from requests>=2.0->wbdata) (1.26.12)\n",
      "Requirement already satisfied: certifi>=2017.4.17 in /Users/xumujie/opt/anaconda3/envs/daps/lib/python3.7/site-packages (from requests>=2.0->wbdata) (2022.9.24)\n",
      "Note: you may need to restart the kernel to use updated packages.\n"
     ]
    }
   ],
   "source": [
    "%pip install wbdata"
   ]
  },
  {
   "cell_type": "code",
   "execution_count": 85,
   "metadata": {
    "cellView": "form",
    "executionInfo": {
     "elapsed": 1004,
     "status": "ok",
     "timestamp": 1604071608946,
     "user": {
      "displayName": "Andrea Piccione",
      "photoUrl": "https://lh3.googleusercontent.com/a-/AOh14GiSPFO34Ds8ny26kw1UmmNXztv1KJ8K3YgBNM11gw=s64",
      "userId": "08515391909662815456"
     },
     "user_tz": -60
    },
    "id": "TpOO5F8YkxyR"
   },
   "outputs": [],
   "source": [
    "#@title Imports\n",
    "import wbdata as wb\n",
    "import datetime"
   ]
  },
  {
   "cell_type": "markdown",
   "metadata": {
    "id": "QVnxwUpg9K22"
   },
   "source": [
    "### - Query the World Bank\n",
    "\n",
    "* **_[TO DO]_**: Use the wbdata to retrieve renewable energy consumption data of all countries in 2015.\n",
    "\n",
    "Hint: [wbdata documentation](https://wbdata.readthedocs.io/en/stable/)"
   ]
  },
  {
   "cell_type": "code",
   "execution_count": 86,
   "metadata": {
    "executionInfo": {
     "elapsed": 2584,
     "status": "ok",
     "timestamp": 1604071613021,
     "user": {
      "displayName": "Andrea Piccione",
      "photoUrl": "https://lh3.googleusercontent.com/a-/AOh14GiSPFO34Ds8ny26kw1UmmNXztv1KJ8K3YgBNM11gw=s64",
      "userId": "08515391909662815456"
     },
     "user_tz": -60
    },
    "id": "NNnSSWZ_9K24"
   },
   "outputs": [],
   "source": [
    "### TODO\n",
    "import numpy as np\n",
    "import wbdata as wb\n",
    "\n",
    "# Selecting the time frame\n",
    "import datetime\n",
    "time_selection = (datetime.datetime(2015, 1, 1), datetime.datetime(2015, 12, 31))\n",
    "energy_data=wb.get_dataframe({'3.1_RE.CONSUMPTION' : 'Renewable energy consumption (TJ)'}, data_date= time_selection)"
   ]
  },
  {
   "cell_type": "markdown",
   "metadata": {
    "id": "A7LFoovO9K28"
   },
   "source": [
    "### - Undestanding the data\n",
    "\n",
    "* **_[TO DO]_**: Display different data points "
   ]
  },
  {
   "cell_type": "code",
   "execution_count": 87,
   "metadata": {
    "colab": {
     "base_uri": "https://localhost:8080/",
     "height": 225
    },
    "executionInfo": {
     "elapsed": 1012,
     "status": "ok",
     "timestamp": 1604071616984,
     "user": {
      "displayName": "Andrea Piccione",
      "photoUrl": "https://lh3.googleusercontent.com/a-/AOh14GiSPFO34Ds8ny26kw1UmmNXztv1KJ8K3YgBNM11gw=s64",
      "userId": "08515391909662815456"
     },
     "user_tz": -60
    },
    "id": "VsJvk9z_9K28",
    "outputId": "c434a7e6-4013-4e47-fd98-313945c1cdac"
   },
   "outputs": [
    {
     "data": {
      "text/html": [
       "<div>\n",
       "<style scoped>\n",
       "    .dataframe tbody tr th:only-of-type {\n",
       "        vertical-align: middle;\n",
       "    }\n",
       "\n",
       "    .dataframe tbody tr th {\n",
       "        vertical-align: top;\n",
       "    }\n",
       "\n",
       "    .dataframe thead th {\n",
       "        text-align: right;\n",
       "    }\n",
       "</style>\n",
       "<table border=\"1\" class=\"dataframe\">\n",
       "  <thead>\n",
       "    <tr style=\"text-align: right;\">\n",
       "      <th></th>\n",
       "      <th>Renewable energy consumption (TJ)</th>\n",
       "    </tr>\n",
       "    <tr>\n",
       "      <th>country</th>\n",
       "      <th></th>\n",
       "    </tr>\n",
       "  </thead>\n",
       "  <tbody>\n",
       "    <tr>\n",
       "      <th>BES Islands</th>\n",
       "      <td>112.78860</td>\n",
       "    </tr>\n",
       "    <tr>\n",
       "      <th>Nauru</th>\n",
       "      <td>0.32988</td>\n",
       "    </tr>\n",
       "    <tr>\n",
       "      <th>Niue</th>\n",
       "      <td>16.63123</td>\n",
       "    </tr>\n",
       "    <tr>\n",
       "      <th>Wallis and Futuna</th>\n",
       "      <td>0.00000</td>\n",
       "    </tr>\n",
       "    <tr>\n",
       "      <th>Caucasian and Central Asia</th>\n",
       "      <td>NaN</td>\n",
       "    </tr>\n",
       "  </tbody>\n",
       "</table>\n",
       "</div>"
      ],
      "text/plain": [
       "                            Renewable energy consumption (TJ)\n",
       "country                                                      \n",
       "BES Islands                                         112.78860\n",
       "Nauru                                                 0.32988\n",
       "Niue                                                 16.63123\n",
       "Wallis and Futuna                                     0.00000\n",
       "Caucasian and Central Asia                                NaN"
      ]
     },
     "execution_count": 87,
     "metadata": {},
     "output_type": "execute_result"
    }
   ],
   "source": [
    "energy_data.head()"
   ]
  },
  {
   "cell_type": "code",
   "execution_count": 96,
   "metadata": {
    "colab": {
     "base_uri": "https://localhost:8080/"
    },
    "executionInfo": {
     "elapsed": 1333,
     "status": "ok",
     "timestamp": 1604071623799,
     "user": {
      "displayName": "Andrea Piccione",
      "photoUrl": "https://lh3.googleusercontent.com/a-/AOh14GiSPFO34Ds8ny26kw1UmmNXztv1KJ8K3YgBNM11gw=s64",
      "userId": "08515391909662815456"
     },
     "user_tz": -60
    },
    "id": "wv-l0DtK5_Zr",
    "outputId": "cbfebc22-0251-47e7-a613-304cf50db43a"
   },
   "outputs": [
    {
     "data": {
      "text/plain": [
       "pandas.core.series.Series"
      ]
     },
     "execution_count": 96,
     "metadata": {},
     "output_type": "execute_result"
    }
   ],
   "source": [
    "type(energy_data['Renewable energy consumption (TJ)'])"
   ]
  },
  {
   "cell_type": "code",
   "execution_count": 89,
   "metadata": {
    "colab": {
     "base_uri": "https://localhost:8080/"
    },
    "executionInfo": {
     "elapsed": 573,
     "status": "ok",
     "timestamp": 1604071626545,
     "user": {
      "displayName": "Andrea Piccione",
      "photoUrl": "https://lh3.googleusercontent.com/a-/AOh14GiSPFO34Ds8ny26kw1UmmNXztv1KJ8K3YgBNM11gw=s64",
      "userId": "08515391909662815456"
     },
     "user_tz": -60
    },
    "id": "ezxQ9_f56P7o",
    "outputId": "4a2ad357-1dd3-44ca-ec13-254c7a36afdf"
   },
   "outputs": [
    {
     "data": {
      "text/plain": [
       "country\n",
       "BES Islands                                             112.788600\n",
       "Nauru                                                     0.329880\n",
       "Niue                                                     16.631230\n",
       "Wallis and Futuna                                         0.000000\n",
       "Caucasian and Central Asia                                     NaN\n",
       "Caucasus and Central Asia                                      NaN\n",
       "Eastern Asia (including Japan)                                 NaN\n",
       "Eastern Asia (not including Japan)                             NaN\n",
       "Eastern Europe                                                 NaN\n",
       "Europe                                                         NaN\n",
       "High income                                                    NaN\n",
       "High income: nonOECD                                           NaN\n",
       "High income: OECD                                              NaN\n",
       "Latin America and Caribbean                                    NaN\n",
       "Low & middle income                                            NaN\n",
       "Low income                                                     NaN\n",
       "Lower middle income                                            NaN\n",
       "Middle income                                                  NaN\n",
       "Northern America                                               NaN\n",
       "Not classified                                                 NaN\n",
       "Nothern America                                                NaN\n",
       "Oceania                                                        NaN\n",
       "Oceania (not including Australia and New Zealand)              NaN\n",
       "South Eastern Asia                                             NaN\n",
       "Southern Asia                                                  NaN\n",
       "Sub-Saharan Africa                                             NaN\n",
       "Upper middle income                                            NaN\n",
       "Western Asia                                                   NaN\n",
       "World                                                          NaN\n",
       "Afghanistan                                           25134.530000\n",
       "Albania                                               31555.450000\n",
       "Algeria                                                 833.669800\n",
       "American Samoa                                            4.968064\n",
       "Andorra                                                1642.520000\n",
       "Angola                                               243771.100000\n",
       "Anguilla                                                  1.827000\n",
       "Antigua and Barbuda                                       0.000000\n",
       "Argentina                                            239470.600000\n",
       "Armenia                                               13445.590000\n",
       "Aruba                                                   437.772000\n",
       "Australia                                            296838.100000\n",
       "Austria                                              362355.800000\n",
       "Azerbaijan                                             7681.284000\n",
       "Bahamas, The                                            310.333000\n",
       "Bahrain                                                   0.000000\n",
       "Bangladesh                                           386058.600000\n",
       "Barbados                                                315.079400\n",
       "Belarus                                               44549.430000\n",
       "Belgium                                              128345.200000\n",
       "Belize                                                 4279.870000\n",
       "Name: Renewable energy consumption (TJ), dtype: float64"
      ]
     },
     "execution_count": 89,
     "metadata": {},
     "output_type": "execute_result"
    }
   ],
   "source": [
    "energy_data['Renewable energy consumption (TJ)'][:50]"
   ]
  },
  {
   "cell_type": "markdown",
   "metadata": {
    "id": "sBjxWA7N9K3D"
   },
   "source": [
    "### - Exporting the data \n",
    "\n",
    "* **_[TO DO]_**: Save the retrieved renewable energy consumption data of all countries in 2015 in one .xlsx file\n",
    "* **_[TO DO]_**: Save the renewable energy consumption data from 2006 to 2016 for each European country in individual .csv files (one per country)"
   ]
  },
  {
   "cell_type": "code",
   "execution_count": 103,
   "metadata": {
    "executionInfo": {
     "elapsed": 993,
     "status": "ok",
     "timestamp": 1604071632302,
     "user": {
      "displayName": "Andrea Piccione",
      "photoUrl": "https://lh3.googleusercontent.com/a-/AOh14GiSPFO34Ds8ny26kw1UmmNXztv1KJ8K3YgBNM11gw=s64",
      "userId": "08515391909662815456"
     },
     "user_tz": -60
    },
    "id": "walSuBFE9K3D"
   },
   "outputs": [],
   "source": [
    "import openpyxl\n",
    "energy_data.to_excel('renewable_energy_cosumption_2016.xlsx')"
   ]
  },
  {
   "cell_type": "code",
   "execution_count": 91,
   "metadata": {
    "executionInfo": {
     "elapsed": 1182,
     "status": "ok",
     "timestamp": 1604071636723,
     "user": {
      "displayName": "Andrea Piccione",
      "photoUrl": "https://lh3.googleusercontent.com/a-/AOh14GiSPFO34Ds8ny26kw1UmmNXztv1KJ8K3YgBNM11gw=s64",
      "userId": "08515391909662815456"
     },
     "user_tz": -60
    },
    "id": "vsvwnhU6BJNa"
   },
   "outputs": [],
   "source": [
    "# Import packages\n",
    "import requests\n",
    "import json"
   ]
  },
  {
   "cell_type": "code",
   "execution_count": 92,
   "metadata": {
    "executionInfo": {
     "elapsed": 2775,
     "status": "ok",
     "timestamp": 1604071644677,
     "user": {
      "displayName": "Andrea Piccione",
      "photoUrl": "https://lh3.googleusercontent.com/a-/AOh14GiSPFO34Ds8ny26kw1UmmNXztv1KJ8K3YgBNM11gw=s64",
      "userId": "08515391909662815456"
     },
     "user_tz": -60
    },
    "id": "1xs2vY9uBK4A"
   },
   "outputs": [],
   "source": [
    "# Requesting all wolrd bank locations names and codes\n",
    "locations = requests.get(\"http://api.worldbank.org/v2/country?format=json&source=6&per_page=300\")\n",
    "locations_json = locations.json()"
   ]
  },
  {
   "cell_type": "code",
   "execution_count": 93,
   "metadata": {
    "executionInfo": {
     "elapsed": 1205,
     "status": "ok",
     "timestamp": 1604071648681,
     "user": {
      "displayName": "Andrea Piccione",
      "photoUrl": "https://lh3.googleusercontent.com/a-/AOh14GiSPFO34Ds8ny26kw1UmmNXztv1KJ8K3YgBNM11gw=s64",
      "userId": "08515391909662815456"
     },
     "user_tz": -60
    },
    "id": "fmGIL40BBjfm"
   },
   "outputs": [],
   "source": [
    "# Parse through the response to filter european (ECS) countries IDs and names\n",
    "europe_countries = {}\n",
    "for i in locations_json[1]:\n",
    "  if i[\"region\"][\"id\"] == \"ECS\":\n",
    "    europe_countries[i[\"id\"]] = i[\"name\"]"
   ]
  },
  {
   "cell_type": "code",
   "execution_count": 104,
   "metadata": {
    "colab": {
     "base_uri": "https://localhost:8080/"
    },
    "executionInfo": {
     "elapsed": 16929,
     "status": "ok",
     "timestamp": 1604071940164,
     "user": {
      "displayName": "Andrea Piccione",
      "photoUrl": "https://lh3.googleusercontent.com/a-/AOh14GiSPFO34Ds8ny26kw1UmmNXztv1KJ8K3YgBNM11gw=s64",
      "userId": "08515391909662815456"
     },
     "user_tz": -60
    },
    "id": "Ox_6Hc4FByy3",
    "outputId": "43d64d7e-aac7-4c8e-d752-e1b3c8f48609"
   },
   "outputs": [
    {
     "name": "stdout",
     "output_type": "stream",
     "text": [
      "Saving ALB data\n",
      "Saving AND data\n",
      "Saving ARM data\n",
      "Saving AUT data\n",
      "Saving AZE data\n",
      "Saving BEL data\n",
      "Saving BGR data\n",
      "Saving BIH data\n",
      "Saving BLR data\n",
      "Saving CHE data\n",
      "Saving CHI data\n",
      "Saving CYP data\n",
      "Saving CZE data\n",
      "Saving DEU data\n",
      "Saving DNK data\n",
      "Saving ESP data\n",
      "Saving EST data\n",
      "Saving FIN data\n",
      "Saving FRA data\n",
      "Saving FRO data\n",
      "Saving GBR data\n",
      "Saving GEO data\n",
      "Saving GIB data\n",
      "Saving GRC data\n",
      "Saving GRL data\n",
      "Saving HRV data\n",
      "Saving HUN data\n",
      "Saving IMN data\n",
      "Saving IRL data\n",
      "Saving ISL data\n",
      "Saving ITA data\n",
      "Saving KAZ data\n",
      "Saving KGZ data\n",
      "Saving LIE data\n",
      "Saving LTU data\n",
      "Saving LUX data\n",
      "Saving LVA data\n",
      "Saving MCO data\n",
      "Saving MDA data\n",
      "Saving MKD data\n",
      "Saving MNE data\n",
      "Saving NLD data\n",
      "Saving NOR data\n",
      "Saving POL data\n",
      "Saving PRT data\n",
      "Saving ROU data\n",
      "Saving RUS data\n",
      "Saving SMR data\n",
      "Saving SRB data\n",
      "Saving SVK data\n",
      "Saving SVN data\n",
      "Saving SWE data\n",
      "Saving TJK data\n",
      "Saving TKM data\n",
      "Saving TUR data\n",
      "Saving UKR data\n",
      "Saving UZB data\n",
      "Saving XKX data\n"
     ]
    }
   ],
   "source": [
    "europe_countries_ids = list(europe_countries.keys())\n",
    "timeSelection = (datetime.datetime(2006, 1, 1), datetime.datetime(2016, 12, 31))\n",
    "for country in europe_countries_ids:\n",
    "  try:\n",
    "      print('Saving {} data'.format(country))\n",
    "      energy_data = wb.get_dataframe({'3.1_RE.CONSUMPTION' : 'Renewable energy consumption (TJ)'}, data_date=timeSelection, country=country)\n",
    "      energy_data.to_csv(europe_countries[country] + '_REC_2006_2016.csv')\n",
    "  except Exception as e:\n",
    "    print(e)\n"
   ]
  },
  {
   "cell_type": "code",
   "execution_count": null,
   "metadata": {},
   "outputs": [],
   "source": []
  }
 ],
 "metadata": {
  "colab": {
   "collapsed_sections": [],
   "name": "LAB1_solutions_part_II.ipynb",
   "provenance": [
    {
     "file_id": "1uOFNFQ_xU-yTGK_eFYLNdLle3lPX3ezf",
     "timestamp": 1603899510575
    },
    {
     "file_id": "1HXjyjuj11ovY200lbVrY4ksJrv4eEphn",
     "timestamp": 1603281631972
    }
   ]
  },
  "kernelspec": {
   "display_name": "Python 3.7.13 ('daps')",
   "language": "python",
   "name": "python3"
  },
  "language_info": {
   "codemirror_mode": {
    "name": "ipython",
    "version": 3
   },
   "file_extension": ".py",
   "mimetype": "text/x-python",
   "name": "python",
   "nbconvert_exporter": "python",
   "pygments_lexer": "ipython3",
   "version": "3.7.13"
  },
  "vscode": {
   "interpreter": {
    "hash": "86c65354b852e2692bd33b7ab02a688cd8bb48d36e6e04b3468da347c310eb33"
   }
  }
 },
 "nbformat": 4,
 "nbformat_minor": 4
}
